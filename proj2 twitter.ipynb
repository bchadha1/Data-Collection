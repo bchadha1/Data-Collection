{
 "cells": [
  {
   "cell_type": "code",
   "execution_count": 1,
   "metadata": {},
   "outputs": [],
   "source": [
    "import pandas as pd\n",
    "import matplotlib.pyplot as plt\n",
    "%matplotlib inline  \n",
    "from textblob import TextBlob\n",
    "import nltk\n",
    "from nltk import word_tokenize, sent_tokenize\n",
    "from nltk.corpus import stopwords\n",
    "from nltk.stem import LancasterStemmer, WordNetLemmatizer"
   ]
  },
  {
   "cell_type": "code",
   "execution_count": 2,
   "metadata": {},
   "outputs": [],
   "source": [
    "#importing the dataset\n",
    "pol_comments = pd.read_csv(\"twitter.csv\",lineterminator='\\n')"
   ]
  },
  {
   "cell_type": "code",
   "execution_count": 3,
   "metadata": {},
   "outputs": [
    {
     "data": {
      "text/html": [
       "<div>\n",
       "<style scoped>\n",
       "    .dataframe tbody tr th:only-of-type {\n",
       "        vertical-align: middle;\n",
       "    }\n",
       "\n",
       "    .dataframe tbody tr th {\n",
       "        vertical-align: top;\n",
       "    }\n",
       "\n",
       "    .dataframe thead th {\n",
       "        text-align: right;\n",
       "    }\n",
       "</style>\n",
       "<table border=\"1\" class=\"dataframe\">\n",
       "  <thead>\n",
       "    <tr style=\"text-align: right;\">\n",
       "      <th></th>\n",
       "      <th>_id</th>\n",
       "      <th>created_at</th>\n",
       "      <th>text</th>\n",
       "      <th>user.id</th>\n",
       "      <th>user.name</th>\n",
       "      <th>user.geo_enabled</th>\n",
       "      <th>retweeted_status.user.profile_image_url_https</th>\n",
       "      <th>retweeted_status.user.default_profile</th>\n",
       "      <th>timestamp_ms</th>\n",
       "    </tr>\n",
       "  </thead>\n",
       "  <tbody>\n",
       "    <tr>\n",
       "      <th>0</th>\n",
       "      <td>5fa47cdd9c7b0079e1c7e05d</td>\n",
       "      <td>Thu Nov 05 22:29:43 +0000 2020</td>\n",
       "      <td>RT @tcs_na: Our Rahul Sarangdhar, Client Partn...</td>\n",
       "      <td>770606</td>\n",
       "      <td>I am Juan</td>\n",
       "      <td>True</td>\n",
       "      <td>https://pbs.twimg.com/profile_images/130847230...</td>\n",
       "      <td>True</td>\n",
       "      <td>1604615383528</td>\n",
       "    </tr>\n",
       "    <tr>\n",
       "      <th>1</th>\n",
       "      <td>5fa47cdd9c7b0079e1c7e05e</td>\n",
       "      <td>Thu Nov 05 22:29:43 +0000 2020</td>\n",
       "      <td>RT @kohakuh1: 新曲です！「春になっても」\\nhttps://t.co/1fkZ...</td>\n",
       "      <td>1000363916743008256</td>\n",
       "      <td>るべい＠DTM 11/06新曲公開</td>\n",
       "      <td>False</td>\n",
       "      <td>https://pbs.twimg.com/profile_images/127100759...</td>\n",
       "      <td>True</td>\n",
       "      <td>1604615383580</td>\n",
       "    </tr>\n",
       "    <tr>\n",
       "      <th>2</th>\n",
       "      <td>5fa47ce09c7b0079e1c7e05f</td>\n",
       "      <td>Thu Nov 05 22:29:46 +0000 2020</td>\n",
       "      <td>RT @IAM__Network: Actionable Strategies for Mi...</td>\n",
       "      <td>1257170815881228295</td>\n",
       "      <td>Machine Learning Bot</td>\n",
       "      <td>False</td>\n",
       "      <td>https://pbs.twimg.com/profile_images/701708113...</td>\n",
       "      <td>False</td>\n",
       "      <td>1604615386653</td>\n",
       "    </tr>\n",
       "    <tr>\n",
       "      <th>3</th>\n",
       "      <td>5fa47ce19c7b0079e1c7e060</td>\n",
       "      <td>Thu Nov 05 22:29:47 +0000 2020</td>\n",
       "      <td>RT @davidtalby: The #DataScientist Learning Jo...</td>\n",
       "      <td>1220022208279515140</td>\n",
       "      <td>API Trends</td>\n",
       "      <td>False</td>\n",
       "      <td>https://pbs.twimg.com/profile_images/333825182...</td>\n",
       "      <td>False</td>\n",
       "      <td>1604615387177</td>\n",
       "    </tr>\n",
       "    <tr>\n",
       "      <th>4</th>\n",
       "      <td>5fa47ce29c7b0079e1c7e061</td>\n",
       "      <td>Thu Nov 05 22:29:48 +0000 2020</td>\n",
       "      <td>RT @TamaraMcCleary: #AI and #automation will h...</td>\n",
       "      <td>23522633</td>\n",
       "      <td>Bassam Zarkout</td>\n",
       "      <td>False</td>\n",
       "      <td>https://pbs.twimg.com/profile_images/125569353...</td>\n",
       "      <td>False</td>\n",
       "      <td>1604615388147</td>\n",
       "    </tr>\n",
       "    <tr>\n",
       "      <th>5</th>\n",
       "      <td>5fa47ce49c7b0079e1c7e062</td>\n",
       "      <td>Thu Nov 05 22:29:49 +0000 2020</td>\n",
       "      <td>Wyyyyyyyy by Tazz. #AI #GenerativeArt #Psycede...</td>\n",
       "      <td>1318972588379484160</td>\n",
       "      <td>Comment To Art</td>\n",
       "      <td>False</td>\n",
       "      <td>NaN</td>\n",
       "      <td>NaN</td>\n",
       "      <td>1604615389760</td>\n",
       "    </tr>\n",
       "    <tr>\n",
       "      <th>6</th>\n",
       "      <td>5fa47ce69c7b0079e1c7e063</td>\n",
       "      <td>Thu Nov 05 22:29:52 +0000 2020</td>\n",
       "      <td>RT @IAM__Network: Actionable Strategies for Mi...</td>\n",
       "      <td>3040871649</td>\n",
       "      <td>HubofMachineLearning</td>\n",
       "      <td>False</td>\n",
       "      <td>https://pbs.twimg.com/profile_images/701708113...</td>\n",
       "      <td>False</td>\n",
       "      <td>1604615392655</td>\n",
       "    </tr>\n",
       "    <tr>\n",
       "      <th>7</th>\n",
       "      <td>5fa47ce79c7b0079e1c7e064</td>\n",
       "      <td>Thu Nov 05 22:29:53 +0000 2020</td>\n",
       "      <td>Aghju vistu stu gran filmettu, una maraviglia ...</td>\n",
       "      <td>117036939</td>\n",
       "      <td>Alain Esco</td>\n",
       "      <td>True</td>\n",
       "      <td>NaN</td>\n",
       "      <td>NaN</td>\n",
       "      <td>1604615393269</td>\n",
       "    </tr>\n",
       "    <tr>\n",
       "      <th>8</th>\n",
       "      <td>5fa47ce99c7b0079e1c7e065</td>\n",
       "      <td>Thu Nov 05 22:29:54 +0000 2020</td>\n",
       "      <td>The latest The Mexicanese Marketer! https://t....</td>\n",
       "      <td>79924984</td>\n",
       "      <td>Jenny Fukumoto-Pasko</td>\n",
       "      <td>True</td>\n",
       "      <td>NaN</td>\n",
       "      <td>NaN</td>\n",
       "      <td>1604615394739</td>\n",
       "    </tr>\n",
       "    <tr>\n",
       "      <th>9</th>\n",
       "      <td>5fa47ce99c7b0079e1c7e066</td>\n",
       "      <td>Thu Nov 05 22:29:55 +0000 2020</td>\n",
       "      <td>RT @FindTampaJobs: Vantagepoint ai, LLC has a ...</td>\n",
       "      <td>772361408956731392</td>\n",
       "      <td>Industry 4.0</td>\n",
       "      <td>False</td>\n",
       "      <td>https://pbs.twimg.com/profile_images/109397693...</td>\n",
       "      <td>False</td>\n",
       "      <td>1604615395105</td>\n",
       "    </tr>\n",
       "  </tbody>\n",
       "</table>\n",
       "</div>"
      ],
      "text/plain": [
       "                        _id                      created_at  \\\n",
       "0  5fa47cdd9c7b0079e1c7e05d  Thu Nov 05 22:29:43 +0000 2020   \n",
       "1  5fa47cdd9c7b0079e1c7e05e  Thu Nov 05 22:29:43 +0000 2020   \n",
       "2  5fa47ce09c7b0079e1c7e05f  Thu Nov 05 22:29:46 +0000 2020   \n",
       "3  5fa47ce19c7b0079e1c7e060  Thu Nov 05 22:29:47 +0000 2020   \n",
       "4  5fa47ce29c7b0079e1c7e061  Thu Nov 05 22:29:48 +0000 2020   \n",
       "5  5fa47ce49c7b0079e1c7e062  Thu Nov 05 22:29:49 +0000 2020   \n",
       "6  5fa47ce69c7b0079e1c7e063  Thu Nov 05 22:29:52 +0000 2020   \n",
       "7  5fa47ce79c7b0079e1c7e064  Thu Nov 05 22:29:53 +0000 2020   \n",
       "8  5fa47ce99c7b0079e1c7e065  Thu Nov 05 22:29:54 +0000 2020   \n",
       "9  5fa47ce99c7b0079e1c7e066  Thu Nov 05 22:29:55 +0000 2020   \n",
       "\n",
       "                                                text              user.id  \\\n",
       "0  RT @tcs_na: Our Rahul Sarangdhar, Client Partn...               770606   \n",
       "1  RT @kohakuh1: 新曲です！「春になっても」\\nhttps://t.co/1fkZ...  1000363916743008256   \n",
       "2  RT @IAM__Network: Actionable Strategies for Mi...  1257170815881228295   \n",
       "3  RT @davidtalby: The #DataScientist Learning Jo...  1220022208279515140   \n",
       "4  RT @TamaraMcCleary: #AI and #automation will h...             23522633   \n",
       "5  Wyyyyyyyy by Tazz. #AI #GenerativeArt #Psycede...  1318972588379484160   \n",
       "6  RT @IAM__Network: Actionable Strategies for Mi...           3040871649   \n",
       "7  Aghju vistu stu gran filmettu, una maraviglia ...            117036939   \n",
       "8  The latest The Mexicanese Marketer! https://t....             79924984   \n",
       "9  RT @FindTampaJobs: Vantagepoint ai, LLC has a ...   772361408956731392   \n",
       "\n",
       "              user.name  user.geo_enabled  \\\n",
       "0             I am Juan              True   \n",
       "1     るべい＠DTM 11/06新曲公開             False   \n",
       "2  Machine Learning Bot             False   \n",
       "3            API Trends             False   \n",
       "4        Bassam Zarkout             False   \n",
       "5        Comment To Art             False   \n",
       "6  HubofMachineLearning             False   \n",
       "7            Alain Esco              True   \n",
       "8  Jenny Fukumoto-Pasko              True   \n",
       "9          Industry 4.0             False   \n",
       "\n",
       "       retweeted_status.user.profile_image_url_https  \\\n",
       "0  https://pbs.twimg.com/profile_images/130847230...   \n",
       "1  https://pbs.twimg.com/profile_images/127100759...   \n",
       "2  https://pbs.twimg.com/profile_images/701708113...   \n",
       "3  https://pbs.twimg.com/profile_images/333825182...   \n",
       "4  https://pbs.twimg.com/profile_images/125569353...   \n",
       "5                                                NaN   \n",
       "6  https://pbs.twimg.com/profile_images/701708113...   \n",
       "7                                                NaN   \n",
       "8                                                NaN   \n",
       "9  https://pbs.twimg.com/profile_images/109397693...   \n",
       "\n",
       "  retweeted_status.user.default_profile   timestamp_ms  \n",
       "0                                  True  1604615383528  \n",
       "1                                  True  1604615383580  \n",
       "2                                 False  1604615386653  \n",
       "3                                 False  1604615387177  \n",
       "4                                 False  1604615388147  \n",
       "5                                   NaN  1604615389760  \n",
       "6                                 False  1604615392655  \n",
       "7                                   NaN  1604615393269  \n",
       "8                                   NaN  1604615394739  \n",
       "9                                 False  1604615395105  "
      ]
     },
     "execution_count": 3,
     "metadata": {},
     "output_type": "execute_result"
    }
   ],
   "source": [
    "#viewing the dataset\n",
    "pol_comments.head(10)"
   ]
  },
  {
   "cell_type": "code",
   "execution_count": 4,
   "metadata": {},
   "outputs": [
    {
     "data": {
      "text/plain": [
       "Index(['_id', 'created_at', 'text', 'user.id', 'user.name', 'user.geo_enabled',\n",
       "       'retweeted_status.user.profile_image_url_https',\n",
       "       'retweeted_status.user.default_profile', 'timestamp_ms'],\n",
       "      dtype='object')"
      ]
     },
     "execution_count": 4,
     "metadata": {},
     "output_type": "execute_result"
    }
   ],
   "source": [
    "# seeing the available columns in the dataset\n",
    "pol_comments.columns"
   ]
  },
  {
   "cell_type": "code",
   "execution_count": 5,
   "metadata": {},
   "outputs": [
    {
     "data": {
      "text/plain": [
       "(147109, 9)"
      ]
     },
     "execution_count": 5,
     "metadata": {},
     "output_type": "execute_result"
    }
   ],
   "source": [
    "#checking the shape of dataset\n",
    "pol_comments.shape"
   ]
  },
  {
   "cell_type": "code",
   "execution_count": 6,
   "metadata": {},
   "outputs": [],
   "source": [
    "# assigning the dataset to dataframe\n",
    "df = pd.DataFrame(pol_comments)"
   ]
  },
  {
   "cell_type": "code",
   "execution_count": 7,
   "metadata": {},
   "outputs": [
    {
     "data": {
      "text/plain": [
       "(147109, 9)"
      ]
     },
     "execution_count": 7,
     "metadata": {},
     "output_type": "execute_result"
    }
   ],
   "source": [
    "#checking the shape of dataset\n",
    "df.shape"
   ]
  },
  {
   "cell_type": "code",
   "execution_count": 8,
   "metadata": {},
   "outputs": [],
   "source": [
    "#data preprocessing\n",
    "#converting the comments into text\n",
    "df['com'] = df['text'].astype(str)"
   ]
  },
  {
   "cell_type": "code",
   "execution_count": 9,
   "metadata": {},
   "outputs": [
    {
     "data": {
      "text/plain": [
       "'RT @IAM__Network: Actionable Strategies for Mitigating Risks &amp; Driving Adoption with Responsible Machine Learning \\n\\nREAD MORE: https://t.co…'"
      ]
     },
     "execution_count": 9,
     "metadata": {},
     "output_type": "execute_result"
    }
   ],
   "source": [
    "# checking for one row\n",
    "df['com'][2]"
   ]
  },
  {
   "cell_type": "code",
   "execution_count": 10,
   "metadata": {},
   "outputs": [],
   "source": [
    "# to lowercase everything \n",
    "df['com'] = df['com'].apply(lambda x:\" \".join(x.lower() for x in x.split()))"
   ]
  },
  {
   "cell_type": "code",
   "execution_count": 11,
   "metadata": {},
   "outputs": [
    {
     "data": {
      "text/plain": [
       "0         rt @tcs_na: our rahul sarangdhar, client partn...\n",
       "1         rt @kohakuh1: 新曲です！「春になっても」 https://t.co/1fkzw...\n",
       "2         rt @iam__network: actionable strategies for mi...\n",
       "3         rt @davidtalby: the #datascientist learning jo...\n",
       "4         rt @tamaramccleary: #ai and #automation will h...\n",
       "                                ...                        \n",
       "147104    note to self: do not call aunt a whornacopia a...\n",
       "147105                                      qué cosas no? 🤣\n",
       "147106    rt @trumpsloveforus: 👇👇👇👇👇 https://t.co/8c02ps...\n",
       "147107    rt @tombx7m: for the most unintentional honest...\n",
       "147108    🗽🔥🗽 trump wears a -diaper not happy that it -l...\n",
       "Name: com, Length: 147109, dtype: object"
      ]
     },
     "execution_count": 11,
     "metadata": {},
     "output_type": "execute_result"
    }
   ],
   "source": [
    "df['com']"
   ]
  },
  {
   "cell_type": "code",
   "execution_count": 12,
   "metadata": {},
   "outputs": [],
   "source": [
    "#removing the punctuation\n",
    "df['com'] = df['com'].str.replace('[^\\w\\s]','')"
   ]
  },
  {
   "cell_type": "code",
   "execution_count": 13,
   "metadata": {},
   "outputs": [
    {
     "data": {
      "text/plain": [
       "0         rt tcs_na our rahul sarangdhar client partner ...\n",
       "1         rt kohakuh1 新曲です春になっても httpstco1fkzwegzwa aiきり...\n",
       "2         rt iam__network actionable strategies for miti...\n",
       "3         rt davidtalby the datascientist learning journ...\n",
       "4         rt tamaramccleary ai and automation will help ...\n",
       "                                ...                        \n",
       "147104    note to self do not call aunt a whornacopia at...\n",
       "147105                                        qué cosas no \n",
       "147106               rt trumpsloveforus  httpstco8c02ps5bop\n",
       "147107    rt tombx7m for the most unintentional honest m...\n",
       "147108     trump wears a diaper not happy that it leaked...\n",
       "Name: com, Length: 147109, dtype: object"
      ]
     },
     "execution_count": 13,
     "metadata": {},
     "output_type": "execute_result"
    }
   ],
   "source": [
    "# viewing overall preprocessed data\n",
    "df['com']"
   ]
  },
  {
   "cell_type": "code",
   "execution_count": 14,
   "metadata": {},
   "outputs": [],
   "source": [
    "# function for calucalting sentimental analysis\n",
    "def senti(x):\n",
    "    return TextBlob(x).sentiment"
   ]
  },
  {
   "cell_type": "code",
   "execution_count": 15,
   "metadata": {},
   "outputs": [],
   "source": [
    "df['senti_score'] = df['com'].apply(senti)"
   ]
  },
  {
   "cell_type": "code",
   "execution_count": 16,
   "metadata": {},
   "outputs": [],
   "source": [
    "mw = df['senti_score']"
   ]
  },
  {
   "cell_type": "code",
   "execution_count": 17,
   "metadata": {},
   "outputs": [
    {
     "data": {
      "text/plain": [
       "0            (0.0, 0.0)\n",
       "1            (0.0, 0.0)\n",
       "2         (0.35, 0.525)\n",
       "3            (0.0, 0.0)\n",
       "4            (0.0, 0.0)\n",
       "              ...      \n",
       "147104     (0.0, 0.125)\n",
       "147105       (0.0, 0.0)\n",
       "147106       (0.0, 0.0)\n",
       "147107      (0.55, 0.7)\n",
       "147108     (-0.2, 0.75)\n",
       "Name: senti_score, Length: 147109, dtype: object"
      ]
     },
     "execution_count": 17,
     "metadata": {},
     "output_type": "execute_result"
    }
   ],
   "source": [
    "#viewing the sentimental score consists of polarity,subjectivity\n",
    "mw"
   ]
  },
  {
   "cell_type": "code",
   "execution_count": 18,
   "metadata": {},
   "outputs": [
    {
     "data": {
      "text/plain": [
       "<matplotlib.axes._subplots.AxesSubplot at 0x20ecd6bf970>"
      ]
     },
     "execution_count": 18,
     "metadata": {},
     "output_type": "execute_result"
    },
    {
     "data": {
      "image/png": "[encoded data removed]",
      "text/plain": [
       "<Figure size 432x288 with 1 Axes>"
      ]
     },
     "metadata": {
      "needs_background": "light"
     },
     "output_type": "display_data"
    }
   ],
   "source": [
    "import seaborn as sns\n",
    "sns.distplot([mw])\n",
    "#[mw].mean()"
   ]
  },
  {
   "cell_type": "code",
   "execution_count": null,
   "metadata": {},
   "outputs": [],
   "source": []
  }
 ],
 "metadata": {
  "kernelspec": {
   "display_name": "Python 3",
   "language": "python",
   "name": "python3"
  },
  "language_info": {
   "codemirror_mode": {
    "name": "ipython",
    "version": 3
   },
   "file_extension": ".py",
   "mimetype": "text/x-python",
   "name": "python",
   "nbconvert_exporter": "python",
   "pygments_lexer": "ipython3",
   "version": "3.8.3"
  }
 },
 "nbformat": 4,
 "nbformat_minor": 4
}
