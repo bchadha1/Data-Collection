{
 "cells": [
  {
   "cell_type": "code",
   "execution_count": 1,
   "metadata": {},
   "outputs": [],
   "source": [
    "import pandas as pd\n",
    "import matplotlib.pyplot as plt\n",
    "%matplotlib inline  \n",
    "from textblob import TextBlob\n",
    "import nltk\n",
    "from nltk import word_tokenize, sent_tokenize\n",
    "from nltk.corpus import stopwords\n",
    "from nltk.stem import LancasterStemmer, WordNetLemmatizer"
   ]
  },
  {
   "cell_type": "code",
   "execution_count": 2,
   "metadata": {},
   "outputs": [],
   "source": [
    "#importing the dataset\n",
    "#filtered out only required fields due large dataset\n",
    "pol_comments = pd.read_csv(\"pol.csv\")"
   ]
  },
  {
   "cell_type": "code",
   "execution_count": 3,
   "metadata": {},
   "outputs": [
    {
     "data": {
      "text/html": [
       "<div>\n",
       "<style scoped>\n",
       "    .dataframe tbody tr th:only-of-type {\n",
       "        vertical-align: middle;\n",
       "    }\n",
       "\n",
       "    .dataframe tbody tr th {\n",
       "        vertical-align: top;\n",
       "    }\n",
       "\n",
       "    .dataframe thead th {\n",
       "        text-align: right;\n",
       "    }\n",
       "</style>\n",
       "<table border=\"1\" class=\"dataframe\">\n",
       "  <thead>\n",
       "    <tr style=\"text-align: right;\">\n",
       "      <th></th>\n",
       "      <th>_id</th>\n",
       "      <th>time_stamp</th>\n",
       "      <th>com</th>\n",
       "    </tr>\n",
       "  </thead>\n",
       "  <tbody>\n",
       "    <tr>\n",
       "      <th>0</th>\n",
       "      <td>so-whats-going-to-happen</td>\n",
       "      <td>2020-11-05T00:52:31.570Z</td>\n",
       "      <td>To these people when joe is officially preside...</td>\n",
       "    </tr>\n",
       "    <tr>\n",
       "      <th>1</th>\n",
       "      <td>did-biden-fuck-up-on-election-night-when-he</td>\n",
       "      <td>2020-11-05T00:52:31.604Z</td>\n",
       "      <td>did Biden fuck up on election night when he ju...</td>\n",
       "    </tr>\n",
       "    <tr>\n",
       "      <th>2</th>\n",
       "      <td>activate-them</td>\n",
       "      <td>2020-11-05T00:52:31.607Z</td>\n",
       "      <td>ACTIVATE THEM ALL</td>\n",
       "    </tr>\n",
       "    <tr>\n",
       "      <th>3</th>\n",
       "      <td>say-it-with-me</td>\n",
       "      <td>2020-11-08T15:58:53.051Z</td>\n",
       "      <td>&lt;span class=\"quote\"&gt;&amp;gt;I will own nothing&lt;/sp...</td>\n",
       "    </tr>\n",
       "    <tr>\n",
       "      <th>4</th>\n",
       "      <td>when-will-they-stop</td>\n",
       "      <td>2020-11-05T00:52:31.612Z</td>\n",
       "      <td>I thought the raids would end post-election or...</td>\n",
       "    </tr>\n",
       "    <tr>\n",
       "      <th>5</th>\n",
       "      <td>i-love-seeing-trump-lose-its-my-daily-medicine-my</td>\n",
       "      <td>2020-11-05T00:52:31.615Z</td>\n",
       "      <td>I love seeing TRUMP lose, it&amp;#039;s my daily m...</td>\n",
       "    </tr>\n",
       "    <tr>\n",
       "      <th>6</th>\n",
       "      <td>lets-be-honest-here-trump-was-a-joke-that-went</td>\n",
       "      <td>2020-11-05T00:52:31.618Z</td>\n",
       "      <td>Let&amp;#039;s be honest here, Trump was a joke th...</td>\n",
       "    </tr>\n",
       "    <tr>\n",
       "      <th>7</th>\n",
       "      <td>is-it-too-late-to-just-redo-the-election-with</td>\n",
       "      <td>2020-11-05T00:52:31.620Z</td>\n",
       "      <td>Is it too late to just re-do the election? Wit...</td>\n",
       "    </tr>\n",
       "    <tr>\n",
       "      <th>8</th>\n",
       "      <td>accelerate</td>\n",
       "      <td>2020-11-05T00:52:31.622Z</td>\n",
       "      <td>THIS IS THE CORRECT FUCKING TIMELINE&lt;br&gt;BUCKLE...</td>\n",
       "    </tr>\n",
       "    <tr>\n",
       "      <th>9</th>\n",
       "      <td>is-trump-the-last-republican-ever</td>\n",
       "      <td>2020-11-05T00:52:31.624Z</td>\n",
       "      <td>Well /pol/</td>\n",
       "    </tr>\n",
       "  </tbody>\n",
       "</table>\n",
       "</div>"
      ],
      "text/plain": [
       "                                                 _id  \\\n",
       "0                           so-whats-going-to-happen   \n",
       "1        did-biden-fuck-up-on-election-night-when-he   \n",
       "2                                      activate-them   \n",
       "3                                     say-it-with-me   \n",
       "4                                when-will-they-stop   \n",
       "5  i-love-seeing-trump-lose-its-my-daily-medicine-my   \n",
       "6     lets-be-honest-here-trump-was-a-joke-that-went   \n",
       "7      is-it-too-late-to-just-redo-the-election-with   \n",
       "8                                         accelerate   \n",
       "9                  is-trump-the-last-republican-ever   \n",
       "\n",
       "                 time_stamp                                                com  \n",
       "0  2020-11-05T00:52:31.570Z  To these people when joe is officially preside...  \n",
       "1  2020-11-05T00:52:31.604Z  did Biden fuck up on election night when he ju...  \n",
       "2  2020-11-05T00:52:31.607Z                                  ACTIVATE THEM ALL  \n",
       "3  2020-11-08T15:58:53.051Z  <span class=\"quote\">&gt;I will own nothing</sp...  \n",
       "4  2020-11-05T00:52:31.612Z  I thought the raids would end post-election or...  \n",
       "5  2020-11-05T00:52:31.615Z  I love seeing TRUMP lose, it&#039;s my daily m...  \n",
       "6  2020-11-05T00:52:31.618Z  Let&#039;s be honest here, Trump was a joke th...  \n",
       "7  2020-11-05T00:52:31.620Z  Is it too late to just re-do the election? Wit...  \n",
       "8  2020-11-05T00:52:31.622Z  THIS IS THE CORRECT FUCKING TIMELINE<br>BUCKLE...  \n",
       "9  2020-11-05T00:52:31.624Z                                         Well /pol/  "
      ]
     },
     "execution_count": 3,
     "metadata": {},
     "output_type": "execute_result"
    }
   ],
   "source": [
    "#checking the sample from the dataset\n",
    "pol_comments.head(10)"
   ]
  },
  {
   "cell_type": "code",
   "execution_count": 4,
   "metadata": {},
   "outputs": [
    {
     "data": {
      "text/plain": [
       "Index(['_id', 'time_stamp', 'com'], dtype='object')"
      ]
     },
     "execution_count": 4,
     "metadata": {},
     "output_type": "execute_result"
    }
   ],
   "source": [
    "# seeing the available columns in the dataset\n",
    "pol_comments.columns"
   ]
  },
  {
   "cell_type": "code",
   "execution_count": 5,
   "metadata": {},
   "outputs": [
    {
     "data": {
      "text/plain": [
       "(3210, 3)"
      ]
     },
     "execution_count": 5,
     "metadata": {},
     "output_type": "execute_result"
    }
   ],
   "source": [
    "#checking the shape of dataset\n",
    "pol_comments.shape"
   ]
  },
  {
   "cell_type": "code",
   "execution_count": 6,
   "metadata": {},
   "outputs": [],
   "source": [
    "# assigning the dataset to dataframe\n",
    "df = pd.DataFrame(pol_comments)"
   ]
  },
  {
   "cell_type": "code",
   "execution_count": 7,
   "metadata": {},
   "outputs": [
    {
     "data": {
      "text/plain": [
       "(3210, 3)"
      ]
     },
     "execution_count": 7,
     "metadata": {},
     "output_type": "execute_result"
    }
   ],
   "source": [
    "#now checking the shape of dataset in the dataframe\n",
    "df.shape  # the result will give number of rows, number of columns"
   ]
  },
  {
   "cell_type": "code",
   "execution_count": 8,
   "metadata": {},
   "outputs": [],
   "source": [
    "#converting the comments into text\n",
    "df['com'] = df['com'].astype(str)"
   ]
  },
  {
   "cell_type": "code",
   "execution_count": 9,
   "metadata": {},
   "outputs": [
    {
     "data": {
      "text/plain": [
       "'ACTIVATE THEM ALL'"
      ]
     },
     "execution_count": 9,
     "metadata": {},
     "output_type": "execute_result"
    }
   ],
   "source": [
    "# checking for one row\n",
    "df['com'][2]"
   ]
  },
  {
   "cell_type": "code",
   "execution_count": 10,
   "metadata": {},
   "outputs": [],
   "source": [
    "# to lowercase everything \n",
    "#using simple lambda function\n",
    "df['com'] = df['com'].apply(lambda x:\" \".join(x.lower() for x in x.split()))"
   ]
  },
  {
   "cell_type": "code",
   "execution_count": 11,
   "metadata": {},
   "outputs": [
    {
     "data": {
      "text/plain": [
       "0       to these people when joe is officially preside...\n",
       "1       did biden fuck up on election night when he ju...\n",
       "2                                       activate them all\n",
       "3       <span class=\"quote\">&gt;i will own nothing</sp...\n",
       "4       i thought the raids would end post-election or...\n",
       "                              ...                        \n",
       "3205                                                  nan\n",
       "3206    please shut up you seething sneeding schizo fa...\n",
       "3207             /pol/ is still coping three weeks later.\n",
       "3208    he just talks about how the media hates jews. ...\n",
       "3209    we not only lost but we looked like deluded fo...\n",
       "Name: com, Length: 3210, dtype: object"
      ]
     },
     "execution_count": 11,
     "metadata": {},
     "output_type": "execute_result"
    }
   ],
   "source": [
    "df['com']"
   ]
  },
  {
   "cell_type": "code",
   "execution_count": 12,
   "metadata": {},
   "outputs": [],
   "source": [
    "#removing the punctuation\n",
    "df['com'] = df['com'].str.replace('[^\\w\\s]','')"
   ]
  },
  {
   "cell_type": "code",
   "execution_count": 13,
   "metadata": {},
   "outputs": [
    {
     "data": {
      "text/plain": [
       "0       to these people when joe is officially preside...\n",
       "1       did biden fuck up on election night when he ju...\n",
       "2                                       activate them all\n",
       "3       span classquotegti will own nothingspanbrspan ...\n",
       "4       i thought the raids would end postelection or ...\n",
       "                              ...                        \n",
       "3205                                                  nan\n",
       "3206    please shut up you seething sneeding schizo fa...\n",
       "3207                pol is still coping three weeks later\n",
       "3208    he just talks about how the media hates jews b...\n",
       "3209    we not only lost but we looked like deluded fo...\n",
       "Name: com, Length: 3210, dtype: object"
      ]
     },
     "execution_count": 13,
     "metadata": {},
     "output_type": "execute_result"
    }
   ],
   "source": [
    "# viewing the overall preprocessed data\n",
    "df['com']"
   ]
  },
  {
   "cell_type": "code",
   "execution_count": 14,
   "metadata": {},
   "outputs": [],
   "source": [
    "#function for textblob caluclating sentimental score\n",
    "def senti(x):\n",
    "    return TextBlob(x).sentiment"
   ]
  },
  {
   "cell_type": "code",
   "execution_count": 15,
   "metadata": {},
   "outputs": [],
   "source": [
    "df['senti_score'] = df['com'].apply(senti)"
   ]
  },
  {
   "cell_type": "code",
   "execution_count": 18,
   "metadata": {},
   "outputs": [],
   "source": [
    "mw = df['senti_score']"
   ]
  },
  {
   "cell_type": "code",
   "execution_count": 20,
   "metadata": {},
   "outputs": [
    {
     "data": {
      "text/plain": [
       "0                                        (0.2, 0.2)\n",
       "1         (0.11249999999999999, 0.5333333333333333)\n",
       "2                                        (0.0, 0.0)\n",
       "3                        (0.2572727272727272, 0.62)\n",
       "4       (-0.07166666666666666, 0.30166666666666664)\n",
       "                           ...                     \n",
       "3205                                     (0.0, 0.0)\n",
       "3206                                     (0.0, 0.0)\n",
       "3207                                     (0.0, 0.0)\n",
       "3208                                     (0.0, 0.0)\n",
       "3209     (-0.16666666666666666, 0.8333333333333333)\n",
       "Name: senti_score, Length: 3210, dtype: object"
      ]
     },
     "execution_count": 20,
     "metadata": {},
     "output_type": "execute_result"
    }
   ],
   "source": [
    "#viewing the sentimental scores of polarity and subjectivity\n",
    "mw"
   ]
  },
  {
   "cell_type": "code",
   "execution_count": 26,
   "metadata": {},
   "outputs": [
    {
     "data": {
      "text/plain": [
       "<matplotlib.axes._subplots.AxesSubplot at 0x2be8e5f0e50>"
      ]
     },
     "execution_count": 26,
     "metadata": {},
     "output_type": "execute_result"
    },
    {
     "data": {
      "image/png": "[encoded data removed]",
      "text/plain": [
       "<Figure size 432x288 with 1 Axes>"
      ]
     },
     "metadata": {
      "needs_background": "light"
     },
     "output_type": "display_data"
    }
   ],
   "source": [
    "#importing seaborn for plotting\n",
    "import seaborn as sns\n",
    "sns.distplot([mw])\n",
    "#[mw].mean()"
   ]
  },
  {
   "cell_type": "code",
   "execution_count": null,
   "metadata": {},
   "outputs": [],
   "source": []
  }
 ],
 "metadata": {
  "kernelspec": {
   "display_name": "Python 3",
   "language": "python",
   "name": "python3"
  },
  "language_info": {
   "codemirror_mode": {
    "name": "ipython",
    "version": 3
   },
   "file_extension": ".py",
   "mimetype": "text/x-python",
   "name": "python",
   "nbconvert_exporter": "python",
   "pygments_lexer": "ipython3",
   "version": "3.8.3"
  }
 },
 "nbformat": 4,
 "nbformat_minor": 4
}
